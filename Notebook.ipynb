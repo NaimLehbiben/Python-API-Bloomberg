{
 "cells": [
  {
   "cell_type": "code",
   "execution_count": 1,
   "metadata": {},
   "outputs": [
    {
     "name": "stdout",
     "output_type": "stream",
     "text": [
      "2002-02-28\n",
      "2002-03-28\n"
     ]
    },
    {
     "ename": "KeyboardInterrupt",
     "evalue": "",
     "output_type": "error",
     "traceback": [
      "\u001b[0;31m---------------------------------------------------------------------------\u001b[0m",
      "\u001b[0;31mKeyboardInterrupt\u001b[0m                         Traceback (most recent call last)",
      "Cell \u001b[0;32mIn[1], line 18\u001b[0m\n\u001b[1;32m      8\u001b[0m \u001b[38;5;28;01mif\u001b[39;00m \u001b[38;5;18m__name__\u001b[39m \u001b[38;5;241m==\u001b[39m \u001b[38;5;124m\"\u001b[39m\u001b[38;5;124m__main__\u001b[39m\u001b[38;5;124m\"\u001b[39m:\n\u001b[1;32m      9\u001b[0m     params \u001b[38;5;241m=\u001b[39m {\n\u001b[1;32m     10\u001b[0m         \u001b[38;5;124m\"\u001b[39m\u001b[38;5;124mcurrency\u001b[39m\u001b[38;5;124m\"\u001b[39m : utils\u001b[38;5;241m.\u001b[39mconfig\u001b[38;5;241m.\u001b[39mCURRENCY,\n\u001b[1;32m     11\u001b[0m         \u001b[38;5;124m\"\u001b[39m\u001b[38;5;124mstart_date\u001b[39m\u001b[38;5;124m\"\u001b[39m : utils\u001b[38;5;241m.\u001b[39mconfig\u001b[38;5;241m.\u001b[39mSTART_DATE,\n\u001b[0;32m   (...)\u001b[0m\n\u001b[1;32m     15\u001b[0m         \u001b[38;5;124m\"\u001b[39m\u001b[38;5;124muse_pickle_universe\u001b[39m\u001b[38;5;124m\"\u001b[39m : utils\u001b[38;5;241m.\u001b[39mconfig\u001b[38;5;241m.\u001b[39mUSE_PICKLE_UNIVERSE,\n\u001b[1;32m     16\u001b[0m         }\n\u001b[0;32m---> 18\u001b[0m     tracker \u001b[38;5;241m=\u001b[39m \u001b[43mBackTesting\u001b[49m\u001b[38;5;241;43m.\u001b[39;49m\u001b[43mstart\u001b[49m\u001b[43m(\u001b[49m\u001b[43mparams\u001b[49m\u001b[43m)\u001b[49m\n",
      "File \u001b[0;32m~/Desktop/M2 272/S1/Bloomberg/Python-API-Bloomberg/src/backtester/back_tester.py:251\u001b[0m, in \u001b[0;36mBackTesting.start\u001b[0;34m(params)\u001b[0m\n\u001b[1;32m    249\u001b[0m \u001b[38;5;28;01mfor\u001b[39;00m date \u001b[38;5;129;01min\u001b[39;00m rebalancing_calendar:\n\u001b[1;32m    250\u001b[0m     \u001b[38;5;28mprint\u001b[39m(date)\n\u001b[0;32m--> 251\u001b[0m     \u001b[43mtracker\u001b[49m\u001b[38;5;241;43m.\u001b[39;49m\u001b[43mrebalance_portfolio\u001b[49m\u001b[43m(\u001b[49m\u001b[43mdate\u001b[49m\u001b[43m,\u001b[49m\u001b[43m \u001b[49m\u001b[43mend_date\u001b[49m\u001b[43m,\u001b[49m\u001b[43m \u001b[49m\u001b[43mglobal_market_data\u001b[49m\u001b[43m,\u001b[49m\u001b[43m \u001b[49m\u001b[43mcompositions\u001b[49m\u001b[43m[\u001b[49m\u001b[43mdate\u001b[49m\u001b[43m]\u001b[49m\u001b[43m)\u001b[49m\n\u001b[1;32m    255\u001b[0m \u001b[38;5;28;01mreturn\u001b[39;00m tracker\n",
      "File \u001b[0;32m~/Desktop/M2 272/S1/Bloomberg/Python-API-Bloomberg/src/backtester/back_tester.py:52\u001b[0m, in \u001b[0;36mAssetIndex.rebalance_portfolio\u001b[0;34m(self, date, end_date, global_market_data, universe)\u001b[0m\n\u001b[1;32m     39\u001b[0m \u001b[38;5;250m\u001b[39m\u001b[38;5;124;03m\"\"\"\u001b[39;00m\n\u001b[1;32m     40\u001b[0m \u001b[38;5;124;03mRebalance the portfolio based on the given date and universe of assets.\u001b[39;00m\n\u001b[1;32m     41\u001b[0m \u001b[38;5;124;03m\u001b[39;00m\n\u001b[0;32m   (...)\u001b[0m\n\u001b[1;32m     49\u001b[0m \u001b[38;5;124;03mNone\u001b[39;00m\n\u001b[1;32m     50\u001b[0m \u001b[38;5;124;03m\"\"\"\u001b[39;00m\n\u001b[1;32m     51\u001b[0m previous_date \u001b[38;5;241m=\u001b[39m Utilities\u001b[38;5;241m.\u001b[39mget_rebalancing_date(date, step \u001b[38;5;241m=\u001b[39m utils\u001b[38;5;241m.\u001b[39mconfig\u001b[38;5;241m.\u001b[39mSTEP_VOL)\n\u001b[0;32m---> 52\u001b[0m universe \u001b[38;5;241m=\u001b[39m \u001b[38;5;28;43mself\u001b[39;49m\u001b[38;5;241;43m.\u001b[39;49m\u001b[43mstrategy\u001b[49m\u001b[38;5;241;43m.\u001b[39;49m\u001b[43mgenerate_signals\u001b[49m\u001b[43m(\u001b[49m\u001b[43mglobal_market_data\u001b[49m\u001b[43m,\u001b[49m\u001b[43muniverse\u001b[49m\u001b[43m,\u001b[49m\u001b[43mdate\u001b[49m\u001b[43m,\u001b[49m\u001b[43mprevious_date\u001b[49m\u001b[43m)\u001b[49m\n\u001b[1;32m     54\u001b[0m \u001b[38;5;28;01mif\u001b[39;00m date \u001b[38;5;241m==\u001b[39m end_date:\n\u001b[1;32m     55\u001b[0m     next_date\u001b[38;5;241m=\u001b[39mdate\n",
      "File \u001b[0;32m~/Desktop/M2 272/S1/Bloomberg/Python-API-Bloomberg/src/strategies/strategies.py:70\u001b[0m, in \u001b[0;36mHighVolatilityDecileStrategy.generate_signals\u001b[0;34m(market_data, compositions, date, previous_date)\u001b[0m\n\u001b[1;32m     58\u001b[0m \u001b[38;5;250m\u001b[39m\u001b[38;5;124;03m\"\"\"\u001b[39;00m\n\u001b[1;32m     59\u001b[0m \u001b[38;5;124;03mGenerate trading signals based on the high volatility decile strategy.\u001b[39;00m\n\u001b[1;32m     60\u001b[0m \n\u001b[0;32m   (...)\u001b[0m\n\u001b[1;32m     67\u001b[0m \u001b[38;5;124;03m- A dictionary with tickers as keys and weights as values.\u001b[39;00m\n\u001b[1;32m     68\u001b[0m \u001b[38;5;124;03m\"\"\"\u001b[39;00m\n\u001b[1;32m     69\u001b[0m \u001b[38;5;66;03m# Calculer la volatilité de chaque actif financier\u001b[39;00m\n\u001b[0;32m---> 70\u001b[0m volatilities \u001b[38;5;241m=\u001b[39m \u001b[43m{\u001b[49m\u001b[43mticker\u001b[49m\u001b[43m:\u001b[49m\u001b[43m \u001b[49m\u001b[43mUtilities\u001b[49m\u001b[38;5;241;43m.\u001b[39;49m\u001b[43mcalculate_past_vol\u001b[49m\u001b[43m(\u001b[49m\u001b[43mmarket_data\u001b[49m\u001b[43m[\u001b[49m\u001b[43mticker\u001b[49m\u001b[43m]\u001b[49m\u001b[43m,\u001b[49m\u001b[43m \u001b[49m\u001b[43mdate\u001b[49m\u001b[43m,\u001b[49m\u001b[43mprevious_date\u001b[49m\u001b[43m)\u001b[49m\u001b[43m \u001b[49m\u001b[38;5;28;43;01mfor\u001b[39;49;00m\u001b[43m \u001b[49m\u001b[43mticker\u001b[49m\u001b[43m \u001b[49m\u001b[38;5;129;43;01min\u001b[39;49;00m\u001b[43m \u001b[49m\u001b[43mcompositions\u001b[49m\u001b[43m}\u001b[49m\n\u001b[1;32m     72\u001b[0m \u001b[38;5;66;03m# Trier les actifs financiers par volatilité décroissante\u001b[39;00m\n\u001b[1;32m     73\u001b[0m sorted_assets \u001b[38;5;241m=\u001b[39m \u001b[38;5;28msorted\u001b[39m(volatilities\u001b[38;5;241m.\u001b[39mkeys(), key\u001b[38;5;241m=\u001b[39m\u001b[38;5;28;01mlambda\u001b[39;00m x: volatilities[x], reverse\u001b[38;5;241m=\u001b[39m\u001b[38;5;28;01mTrue\u001b[39;00m)\n",
      "File \u001b[0;32m~/Desktop/M2 272/S1/Bloomberg/Python-API-Bloomberg/src/strategies/strategies.py:70\u001b[0m, in \u001b[0;36m<dictcomp>\u001b[0;34m(.0)\u001b[0m\n\u001b[1;32m     58\u001b[0m \u001b[38;5;250m\u001b[39m\u001b[38;5;124;03m\"\"\"\u001b[39;00m\n\u001b[1;32m     59\u001b[0m \u001b[38;5;124;03mGenerate trading signals based on the high volatility decile strategy.\u001b[39;00m\n\u001b[1;32m     60\u001b[0m \n\u001b[0;32m   (...)\u001b[0m\n\u001b[1;32m     67\u001b[0m \u001b[38;5;124;03m- A dictionary with tickers as keys and weights as values.\u001b[39;00m\n\u001b[1;32m     68\u001b[0m \u001b[38;5;124;03m\"\"\"\u001b[39;00m\n\u001b[1;32m     69\u001b[0m \u001b[38;5;66;03m# Calculer la volatilité de chaque actif financier\u001b[39;00m\n\u001b[0;32m---> 70\u001b[0m volatilities \u001b[38;5;241m=\u001b[39m {ticker: \u001b[43mUtilities\u001b[49m\u001b[38;5;241;43m.\u001b[39;49m\u001b[43mcalculate_past_vol\u001b[49m\u001b[43m(\u001b[49m\u001b[43mmarket_data\u001b[49m\u001b[43m[\u001b[49m\u001b[43mticker\u001b[49m\u001b[43m]\u001b[49m\u001b[43m,\u001b[49m\u001b[43m \u001b[49m\u001b[43mdate\u001b[49m\u001b[43m,\u001b[49m\u001b[43mprevious_date\u001b[49m\u001b[43m)\u001b[49m \u001b[38;5;28;01mfor\u001b[39;00m ticker \u001b[38;5;129;01min\u001b[39;00m compositions}\n\u001b[1;32m     72\u001b[0m \u001b[38;5;66;03m# Trier les actifs financiers par volatilité décroissante\u001b[39;00m\n\u001b[1;32m     73\u001b[0m sorted_assets \u001b[38;5;241m=\u001b[39m \u001b[38;5;28msorted\u001b[39m(volatilities\u001b[38;5;241m.\u001b[39mkeys(), key\u001b[38;5;241m=\u001b[39m\u001b[38;5;28;01mlambda\u001b[39;00m x: volatilities[x], reverse\u001b[38;5;241m=\u001b[39m\u001b[38;5;28;01mTrue\u001b[39;00m)\n",
      "File \u001b[0;32m~/Desktop/M2 272/S1/Bloomberg/Python-API-Bloomberg/utils/utilities.py:131\u001b[0m, in \u001b[0;36mUtilities.calculate_past_vol\u001b[0;34m(price_history, date, previous_date)\u001b[0m\n\u001b[1;32m    128\u001b[0m price_history \u001b[38;5;241m=\u001b[39m price_history\u001b[38;5;241m.\u001b[39mloc[previous_date:date]\n\u001b[1;32m    130\u001b[0m \u001b[38;5;66;03m# Convertir les prix historiques en rendements quotidiens\u001b[39;00m\n\u001b[0;32m--> 131\u001b[0m returns \u001b[38;5;241m=\u001b[39m \u001b[43mprice_history\u001b[49m\u001b[38;5;241;43m.\u001b[39;49m\u001b[43miloc\u001b[49m\u001b[43m[\u001b[49m\u001b[43m:\u001b[49m\u001b[43m,\u001b[49m\u001b[38;5;241;43m0\u001b[39;49m\u001b[43m]\u001b[49m\u001b[38;5;241;43m.\u001b[39;49m\u001b[43mpct_change\u001b[49m\u001b[43m(\u001b[49m\u001b[43m)\u001b[49m\u001b[38;5;241;43m.\u001b[39;49m\u001b[43mdropna\u001b[49m\u001b[43m(\u001b[49m\u001b[43m)\u001b[49m\n\u001b[1;32m    133\u001b[0m \u001b[38;5;66;03m# Calculer la volatilité à partir des rendements\u001b[39;00m\n\u001b[1;32m    134\u001b[0m volatility \u001b[38;5;241m=\u001b[39m np\u001b[38;5;241m.\u001b[39mstd(returns)\n",
      "File \u001b[0;32m~/Desktop/M2 272/S1/Bloomberg/Python-API-Bloomberg/.venv/lib/python3.11/site-packages/pandas/core/series.py:5891\u001b[0m, in \u001b[0;36mSeries.dropna\u001b[0;34m(self, axis, inplace, how, ignore_index)\u001b[0m\n\u001b[1;32m   5888\u001b[0m \u001b[38;5;28mself\u001b[39m\u001b[38;5;241m.\u001b[39m_get_axis_number(axis \u001b[38;5;129;01mor\u001b[39;00m \u001b[38;5;241m0\u001b[39m)\n\u001b[1;32m   5890\u001b[0m \u001b[38;5;28;01mif\u001b[39;00m \u001b[38;5;28mself\u001b[39m\u001b[38;5;241m.\u001b[39m_can_hold_na:\n\u001b[0;32m-> 5891\u001b[0m     result \u001b[38;5;241m=\u001b[39m \u001b[43mremove_na_arraylike\u001b[49m\u001b[43m(\u001b[49m\u001b[38;5;28;43mself\u001b[39;49m\u001b[43m)\u001b[49m\n\u001b[1;32m   5892\u001b[0m \u001b[38;5;28;01melse\u001b[39;00m:\n\u001b[1;32m   5893\u001b[0m     \u001b[38;5;28;01mif\u001b[39;00m \u001b[38;5;129;01mnot\u001b[39;00m inplace:\n",
      "File \u001b[0;32m~/Desktop/M2 272/S1/Bloomberg/Python-API-Bloomberg/.venv/lib/python3.11/site-packages/pandas/core/dtypes/missing.py:725\u001b[0m, in \u001b[0;36mremove_na_arraylike\u001b[0;34m(arr)\u001b[0m\n\u001b[1;32m    723\u001b[0m     \u001b[38;5;28;01mreturn\u001b[39;00m arr[notna(arr)]\n\u001b[1;32m    724\u001b[0m \u001b[38;5;28;01melse\u001b[39;00m:\n\u001b[0;32m--> 725\u001b[0m     \u001b[38;5;28;01mreturn\u001b[39;00m arr[notna(np\u001b[38;5;241m.\u001b[39masarray(arr))]\n",
      "File \u001b[0;32m~/Desktop/M2 272/S1/Bloomberg/Python-API-Bloomberg/.venv/lib/python3.11/site-packages/pandas/core/series.py:974\u001b[0m, in \u001b[0;36mSeries.__array__\u001b[0;34m(self, dtype)\u001b[0m\n\u001b[1;32m    970\u001b[0m     \u001b[38;5;28;01mreturn\u001b[39;00m res_ser\u001b[38;5;241m.\u001b[39m__finalize__(\u001b[38;5;28mself\u001b[39m, method\u001b[38;5;241m=\u001b[39m\u001b[38;5;124m\"\u001b[39m\u001b[38;5;124mview\u001b[39m\u001b[38;5;124m\"\u001b[39m)\n\u001b[1;32m    972\u001b[0m \u001b[38;5;66;03m# ----------------------------------------------------------------------\u001b[39;00m\n\u001b[1;32m    973\u001b[0m \u001b[38;5;66;03m# NDArray Compat\u001b[39;00m\n\u001b[0;32m--> 974\u001b[0m \u001b[38;5;28;01mdef\u001b[39;00m \u001b[38;5;21m__array__\u001b[39m(\u001b[38;5;28mself\u001b[39m, dtype: npt\u001b[38;5;241m.\u001b[39mDTypeLike \u001b[38;5;241m|\u001b[39m \u001b[38;5;28;01mNone\u001b[39;00m \u001b[38;5;241m=\u001b[39m \u001b[38;5;28;01mNone\u001b[39;00m) \u001b[38;5;241m-\u001b[39m\u001b[38;5;241m>\u001b[39m np\u001b[38;5;241m.\u001b[39mndarray:\n\u001b[1;32m    975\u001b[0m \u001b[38;5;250m    \u001b[39m\u001b[38;5;124;03m\"\"\"\u001b[39;00m\n\u001b[1;32m    976\u001b[0m \u001b[38;5;124;03m    Return the values as a NumPy array.\u001b[39;00m\n\u001b[1;32m    977\u001b[0m \n\u001b[0;32m   (...)\u001b[0m\n\u001b[1;32m   1019\u001b[0m \u001b[38;5;124;03m          dtype='datetime64[ns]')\u001b[39;00m\n\u001b[1;32m   1020\u001b[0m \u001b[38;5;124;03m    \"\"\"\u001b[39;00m\n\u001b[1;32m   1021\u001b[0m     values \u001b[38;5;241m=\u001b[39m \u001b[38;5;28mself\u001b[39m\u001b[38;5;241m.\u001b[39m_values\n",
      "\u001b[0;31mKeyboardInterrupt\u001b[0m: "
     ]
    }
   ],
   "source": [
    "from datetime import datetime\n",
    "from utils.utilities import Utilities\n",
    "import pickle\n",
    "from src.backtester.back_tester import BackTesting\n",
    "from src.strategies.strategies import Strategy, LowVolatilityDecileStrategy, HighVolatilityDecileStrategy\n",
    "import utils.config\n",
    "\n",
    "if __name__ == \"__main__\":\n",
    "    params = {\n",
    "        \"currency\" : utils.config.CURRENCY,\n",
    "        \"start_date\" : utils.config.START_DATE,\n",
    "        \"end_date\" : utils.config.END_DATE,\n",
    "        \"ticker\" : utils.config.TICKER,\n",
    "        \"strategy\" : HighVolatilityDecileStrategy,\n",
    "        \"use_pickle_universe\" : utils.config.USE_PICKLE_UNIVERSE,\n",
    "        }\n",
    "    \n",
    "    tracker = BackTesting.start(params)"
   ]
  }
 ],
 "metadata": {
  "kernelspec": {
   "display_name": ".venv",
   "language": "python",
   "name": "python3"
  },
  "language_info": {
   "codemirror_mode": {
    "name": "ipython",
    "version": 3
   },
   "file_extension": ".py",
   "mimetype": "text/x-python",
   "name": "python",
   "nbconvert_exporter": "python",
   "pygments_lexer": "ipython3",
   "version": "3.11.7"
  }
 },
 "nbformat": 4,
 "nbformat_minor": 2
}
