{
 "cells": [
  {
   "cell_type": "code",
   "execution_count": null,
   "metadata": {},
   "outputs": [],
   "source": [
    "import sys\n",
    "import os\n",
    "import warnings\n",
    "\n",
    "# Ajouter le répertoire parent pour inclure 'src'\n",
    "sys.path.append(os.path.abspath(os.path.join(os.getcwd(), 'src')))\n",
    "\n",
    "# Imports après avoir ajusté le sys.path\n",
    "from src.backtester.back_tester import BackTesting\n",
    "from src.strategies.strategies import *\n",
    "from src.utils.utilities import Utilities\n",
    "from src.performance.graph import IndexPlotter\n",
    "import utils.constant as constant\n",
    "from src.performance.metrics import MetricsCalculator\n",
    "\n",
    "# Supprimer les avertissements FutureWarning et RuntimeWarning\n",
    "warnings.filterwarnings(\"ignore\", category=FutureWarning)\n",
    "warnings.filterwarnings(\"ignore\", category=RuntimeWarning)\n",
    "warnings.filterwarnings(\"ignore\", category=UserWarning)\n",
    "\n",
    "pd.set_option('display.float_format', '{:.3f}'.format)"
   ]
  },
  {
   "cell_type": "markdown",
   "metadata": {},
   "source": [
    "<div style=\"background-color: rgb(15, 50, 110); color: white; padding: 15px; border-radius: 8px; box-shadow: 0 3px 6px 0 rgba(0, 0, 0, 0.2); text-align: center;\">\n",
    "    <h1 style=\"font-size: 32px; font-weight: bold; margin: 0;\">Volatility Timing under Low-Volatility Strategy</h1>\n",
    "</div> "
   ]
  },
  {
   "cell_type": "markdown",
   "metadata": {},
   "source": [
    "## <span style=\"color: rgb(15, 50, 150); font-size: 20px; font-weight: bold;\"> Volatility Strategies </span>"
   ]
  },
  {
   "cell_type": "markdown",
   "metadata": {},
   "source": [
    "### <span style=\"color: rgb(15, 50, 150); font-size: 16px; font-weight: bold;\"> 1. Strategies construction and back-testing </span>"
   ]
  },
  {
   "cell_type": "code",
   "execution_count": null,
   "metadata": {},
   "outputs": [],
   "source": [
    "# Paramètres du back-test\n",
    "params = {\n",
    "    \"currency\": constant.CURRENCY,\n",
    "    \"start_date\": constant.START_DATE,\n",
    "    \"end_date\": constant.END_DATE,\n",
    "    \"ticker\": constant.TICKER,\n",
    "    \"strategy\": VolatilityTimingStrategy(),\n",
    "    \"use_pickle_universe\": constant.USE_PICKLE_UNIVERSE,\n",
    "}\n",
    "\n",
    "# Lancement du back-test\n",
    "asset_index = BackTesting.start(params)\n",
    "#Utilities.save_data_to_pickle(asset_index, file_name=\"VolatilityTiming\",folder_subpath=\"asset_indices\\\\monthly_eq_weighted\")"
   ]
  },
  {
   "cell_type": "code",
   "execution_count": null,
   "metadata": {},
   "outputs": [],
   "source": [
    "# Appel de la fonction port\n",
    "asset_index = Utilities.get_data_from_pickle('VolatilityTiming',folder_subpath=\"asset_indices\\\\monthly_eq_weighted\")\n",
    "asset_index.get_port_file('VolatilityTiming')"
   ]
  },
  {
   "cell_type": "markdown",
   "metadata": {},
   "source": [
    "### <span style=\"color: rgb(15, 50, 150); font-size: 16px; font-weight: bold;\"> 2. Volatility and Return Profile under Different Market Conditions </span>"
   ]
  },
  {
   "cell_type": "code",
   "execution_count": null,
   "metadata": {},
   "outputs": [],
   "source": [
    "asset_indices_monthly = Utilities.load_asset_indices([\"LowVolatilityDecile\", \"MidVolatilityDecile\", \"HighVolatilityDecile\"], \n",
    "                                             folder_subpath=\"asset_indices\\\\monthly_eq_weighted\")\n",
    "other_data = Utilities.get_data_from_pickle('other_US_data')\n",
    "IndexPlotter.asset_indices_plot_under_diff_conditions(asset_indices_monthly,other_data)"
   ]
  },
  {
   "cell_type": "markdown",
   "metadata": {},
   "source": [
    "### <span style=\"color: rgb(15, 50, 150); font-size: 16px; font-weight: bold;\"> 3. Performance and Wealth Plots of the Volatility Strategies </span>"
   ]
  },
  {
   "cell_type": "code",
   "execution_count": null,
   "metadata": {},
   "outputs": [],
   "source": [
    "# Graph des tracks records des stratégies\n",
    "asset_indices_monthly = Utilities.load_asset_indices([\"LowVolatilityDecile\", \"MidVolatilityDecile\", \"HighVolatilityDecile\", \n",
    "                                              \"VolatilityTiming\", \"VolatilityTiming2sided\"],\n",
    "                                             folder_subpath=\"asset_indices\\\\monthly_eq_weighted\")\n",
    "other_data = Utilities.get_data_from_pickle('other_US_data')\n",
    "IndexPlotter.plot_track_records(asset_indices_monthly, other_data['USRINDEX Index'])"
   ]
  },
  {
   "cell_type": "code",
   "execution_count": null,
   "metadata": {},
   "outputs": [],
   "source": [
    "IndexPlotter.asset_indices_barplot(asset_indices_monthly, other_data)"
   ]
  },
  {
   "cell_type": "markdown",
   "metadata": {},
   "source": [
    "### <span style=\"color: rgb(15, 50, 150); font-size: 16px; font-weight: bold;\">  4. Performance and Risk Measures of the Various Volatility Portfolios </span>"
   ]
  },
  {
   "cell_type": "code",
   "execution_count": null,
   "metadata": {},
   "outputs": [],
   "source": [
    "IndexPlotter.display_asset_indices_metrics(asset_indices_monthly,other_data)"
   ]
  },
  {
   "cell_type": "markdown",
   "metadata": {},
   "source": [
    "## <span style=\"color: rgb(15, 50, 150); font-size: 20px; font-weight: bold;\"> Robustness Tests </span>\n"
   ]
  },
  {
   "cell_type": "markdown",
   "metadata": {},
   "source": [
    "### <span style=\"color: rgb(15, 50, 150); font-size: 16px; font-weight: bold;\">  1. CAPM and Fama–French Alphas </span>"
   ]
  },
  {
   "cell_type": "code",
   "execution_count": null,
   "metadata": {},
   "outputs": [],
   "source": [
    "CPAM_stats, FF_stats = IndexPlotter.display_regress_statistics(asset_indices_monthly)\n",
    "CPAM_stats"
   ]
  },
  {
   "cell_type": "code",
   "execution_count": null,
   "metadata": {},
   "outputs": [],
   "source": [
    "FF_stats"
   ]
  },
  {
   "cell_type": "markdown",
   "metadata": {},
   "source": [
    "### <span style=\"color: rgb(15, 50, 150); font-size: 16px; font-weight: bold;\">  2. Performance plots for various rebalancing frequencies </span>"
   ]
  },
  {
   "cell_type": "code",
   "execution_count": null,
   "metadata": {},
   "outputs": [],
   "source": [
    "# Chargement des indices\n",
    "asset_indices_quaterly = Utilities.load_asset_indices([\"LowVolatilityDecile\", \"MidVolatilityDecile\", \"HighVolatilityDecile\", \n",
    "                                              \"VolatilityTiming\", \"VolatilityTiming2sided\"],\n",
    "                                             folder_subpath=\"asset_indices\\\\quarterly_eq_weighted\")\n",
    "asset_indices_semiannually = Utilities.load_asset_indices([\"VolatilityTiming\"],\n",
    "                                             folder_subpath=\"asset_indices\\\\semiannually_eq_weighted\")\n",
    "asset_indices_annually = Utilities.load_asset_indices([\"VolatilityTiming\"],\n",
    "                                             folder_subpath=\"asset_indices\\\\annually_eq_weighted\")"
   ]
  },
  {
   "cell_type": "code",
   "execution_count": null,
   "metadata": {},
   "outputs": [],
   "source": [
    "# Graph des tracks records des stratégies : rebalancement trimestriel (fin trimestre)\n",
    "IndexPlotter.plot_track_records(asset_indices_quaterly, other_data['USRINDEX Index'])"
   ]
  },
  {
   "cell_type": "code",
   "execution_count": null,
   "metadata": {},
   "outputs": [],
   "source": [
    "# Graphique des tracks records de la stratégie VolTiming pour différentes fréquences de rebalancement\n",
    "IndexPlotter.plot_tracks_for_diff_rebalncing_freq( [asset_indices_monthly['VolatilityTiming'],\n",
    "                                                   asset_indices_quaterly['VolatilityTiming'],\n",
    "                                                   asset_indices_semiannually['VolatilityTiming'],\n",
    "                                                   asset_indices_annually['VolatilityTiming']],\n",
    "                                                   label_names=[\"monthly\", \"quarterly\",\"semiannually\",\"annually\"],\n",
    "                                                   strat_name=\"VolatilityTiming\")"
   ]
  }
 ],
 "metadata": {
  "kernelspec": {
   "display_name": ".venv",
   "language": "python",
   "name": "python3"
  },
  "language_info": {
   "codemirror_mode": {
    "name": "ipython",
    "version": 3
   },
   "file_extension": ".py",
   "mimetype": "text/x-python",
   "name": "python",
   "nbconvert_exporter": "python",
   "pygments_lexer": "ipython3",
   "version": "3.10.9"
  }
 },
 "nbformat": 4,
 "nbformat_minor": 2
}
