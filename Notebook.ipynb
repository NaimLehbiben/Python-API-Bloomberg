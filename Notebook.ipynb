{
 "cells": [
  {
   "cell_type": "code",
   "execution_count": 1,
   "metadata": {},
   "outputs": [],
   "source": [
    "import sys\n",
    "import os\n",
    "import warnings\n",
    "\n",
    "# Ajouter le répertoire parent pour inclure 'src'\n",
    "sys.path.append(os.path.abspath(os.path.join(os.getcwd(), 'src')))\n",
    "\n",
    "# Imports après avoir ajusté le sys.path\n",
    "from src.backtester.back_tester import BackTesting\n",
    "from src.strategies.strategies import *\n",
    "from src.utils.utilities import Utilities\n",
    "from src.performance.graph import IndexPlotter\n",
    "import utils.constant as constant\n",
    "from src.performance.metrics import MetricsCalculator\n",
    "\n",
    "# Supprimer les avertissements FutureWarning et RuntimeWarning\n",
    "warnings.filterwarnings(\"ignore\", category=FutureWarning)\n",
    "warnings.filterwarnings(\"ignore\", category=RuntimeWarning)\n",
    "warnings.filterwarnings(\"ignore\", category=UserWarning)\n",
    "\n",
    "pd.set_option('display.float_format', '{:.3f}'.format)"
   ]
  },
  {
   "cell_type": "markdown",
   "metadata": {},
   "source": [
    "<div style=\"background-color: rgb(15, 50, 110); color: white; padding: 15px; border-radius: 8px; box-shadow: 0 3px 6px 0 rgba(0, 0, 0, 0.2); text-align: center;\">\n",
    "    <h1 style=\"font-size: 32px; font-weight: bold; margin: 0;\">Volatility Timing under Low-Volatility Strategy</h1>\n",
    "</div> "
   ]
  },
  {
   "cell_type": "markdown",
   "metadata": {},
   "source": [
    "## <span style=\"color: rgb(15, 50, 150); font-size: 20px; font-weight: bold;\"> Volatility Strategies </span>"
   ]
  },
  {
   "cell_type": "markdown",
   "metadata": {},
   "source": [
    "### <span style=\"color: rgb(15, 50, 150); font-size: 16px; font-weight: bold;\"> 1. Strategies construction and back-testing </span>"
   ]
  },
  {
   "cell_type": "code",
   "execution_count": 2,
   "metadata": {},
   "outputs": [],
   "source": [
    "# Appel de la fonction port\n",
    "asset_index = Utilities.get_data_from_pickle('VolatilityTiming',folder_subpath=\"asset_indices\\\\monthly_eq_weighted\")\n",
    "asset_index.get_port_file('VolatilityTiming')"
   ]
  },
  {
   "cell_type": "markdown",
   "metadata": {},
   "source": [
    "### <span style=\"color: rgb(15, 50, 150); font-size: 16px; font-weight: bold;\"> 2. Volatility and Return Profile under Different Market Conditions </span>"
   ]
  },
  {
   "cell_type": "code",
   "execution_count": 4,
   "metadata": {},
   "outputs": [
    {
     "ename": "TypeError",
     "evalue": "IndexPlotter.asset_indices_plot_under_diff_conditions() missing 6 required positional arguments: 'risk_free_rate_ticker', 'start_date', 'end_date', 'frequency', 'rebalance_at', and 'ticker'",
     "output_type": "error",
     "traceback": [
      "\u001b[1;31m---------------------------------------------------------------------------\u001b[0m",
      "\u001b[1;31mTypeError\u001b[0m                                 Traceback (most recent call last)",
      "Cell \u001b[1;32mIn[4], line 4\u001b[0m\n\u001b[0;32m      1\u001b[0m asset_indices_monthly \u001b[38;5;241m=\u001b[39m Utilities\u001b[38;5;241m.\u001b[39mload_asset_indices([\u001b[38;5;124m\"\u001b[39m\u001b[38;5;124mLowVolatilityDecile\u001b[39m\u001b[38;5;124m\"\u001b[39m, \u001b[38;5;124m\"\u001b[39m\u001b[38;5;124mMidVolatilityDecile\u001b[39m\u001b[38;5;124m\"\u001b[39m, \u001b[38;5;124m\"\u001b[39m\u001b[38;5;124mHighVolatilityDecile\u001b[39m\u001b[38;5;124m\"\u001b[39m], \n\u001b[0;32m      2\u001b[0m                                              folder_subpath\u001b[38;5;241m=\u001b[39m\u001b[38;5;124m\"\u001b[39m\u001b[38;5;124masset_indices\u001b[39m\u001b[38;5;130;01m\\\\\u001b[39;00m\u001b[38;5;124mmonthly_eq_weighted\u001b[39m\u001b[38;5;124m\"\u001b[39m)\n\u001b[0;32m      3\u001b[0m other_data \u001b[38;5;241m=\u001b[39m Utilities\u001b[38;5;241m.\u001b[39mget_data_from_pickle(\u001b[38;5;124m'\u001b[39m\u001b[38;5;124mother_US_data\u001b[39m\u001b[38;5;124m'\u001b[39m,folder_subpath\u001b[38;5;241m=\u001b[39m\u001b[38;5;124m\"\u001b[39m\u001b[38;5;124muniverse\u001b[39m\u001b[38;5;124m\"\u001b[39m)\n\u001b[1;32m----> 4\u001b[0m \u001b[43mIndexPlotter\u001b[49m\u001b[38;5;241;43m.\u001b[39;49m\u001b[43masset_indices_plot_under_diff_conditions\u001b[49m\u001b[43m(\u001b[49m\u001b[43masset_indices_monthly\u001b[49m\u001b[43m,\u001b[49m\u001b[43mother_data\u001b[49m\u001b[43m)\u001b[49m\n",
      "\u001b[1;31mTypeError\u001b[0m: IndexPlotter.asset_indices_plot_under_diff_conditions() missing 6 required positional arguments: 'risk_free_rate_ticker', 'start_date', 'end_date', 'frequency', 'rebalance_at', and 'ticker'"
     ]
    }
   ],
   "source": [
    "asset_indices_monthly = Utilities.load_asset_indices([\"LowVolatilityDecile\", \"MidVolatilityDecile\", \"HighVolatilityDecile\"], \n",
    "                                             folder_subpath=\"asset_indices\\\\monthly_eq_weighted\")\n",
    "other_data = Utilities.get_data_from_pickle('other_US_data',folder_subpath=\"universe\")\n",
    "IndexPlotter.asset_indices_plot_under_diff_conditions(asset_indices_monthly,other_data,risk_free_rate_ticker=, start_date=,end_date=,frequency=,ra)"
   ]
  },
  {
   "cell_type": "markdown",
   "metadata": {},
   "source": [
    "### <span style=\"color: rgb(15, 50, 150); font-size: 16px; font-weight: bold;\"> 3. Performance and Wealth Plots of the Volatility Strategies </span>"
   ]
  },
  {
   "cell_type": "code",
   "execution_count": null,
   "metadata": {},
   "outputs": [],
   "source": [
    "# Graph des tracks records des stratégies\n",
    "asset_indices_monthly = Utilities.load_asset_indices([\"LowVolatilityDecile\", \"MidVolatilityDecile\", \"HighVolatilityDecile\", \n",
    "                                              \"VolatilityTiming\", \"VolatilityTiming2sided\"],\n",
    "                                             folder_subpath=\"asset_indices\\\\monthly_eq_weighted\")\n",
    "other_data = Utilities.get_data_from_pickle('other_US_data')\n",
    "IndexPlotter.plot_track_records(asset_indices_monthly, other_data['USRINDEX Index'])"
   ]
  },
  {
   "cell_type": "code",
   "execution_count": null,
   "metadata": {},
   "outputs": [],
   "source": [
    "IndexPlotter.asset_indices_barplot(asset_indices_monthly, other_data)"
   ]
  },
  {
   "cell_type": "markdown",
   "metadata": {},
   "source": [
    "### <span style=\"color: rgb(15, 50, 150); font-size: 16px; font-weight: bold;\">  4. Performance and Risk Measures of the Various Volatility Portfolios </span>"
   ]
  },
  {
   "cell_type": "code",
   "execution_count": null,
   "metadata": {},
   "outputs": [],
   "source": [
    "IndexPlotter.display_asset_indices_metrics(asset_indices_monthly,other_data)"
   ]
  },
  {
   "cell_type": "markdown",
   "metadata": {},
   "source": [
    "## <span style=\"color: rgb(15, 50, 150); font-size: 20px; font-weight: bold;\"> Robustness Tests </span>\n"
   ]
  },
  {
   "cell_type": "markdown",
   "metadata": {},
   "source": [
    "### <span style=\"color: rgb(15, 50, 150); font-size: 16px; font-weight: bold;\">  1. CAPM and Fama–French Alphas </span>"
   ]
  },
  {
   "cell_type": "code",
   "execution_count": null,
   "metadata": {},
   "outputs": [],
   "source": [
    "CPAM_stats, FF_stats = IndexPlotter.display_regress_statistics(asset_indices_monthly)\n",
    "CPAM_stats"
   ]
  },
  {
   "cell_type": "code",
   "execution_count": null,
   "metadata": {},
   "outputs": [],
   "source": [
    "FF_stats"
   ]
  },
  {
   "cell_type": "markdown",
   "metadata": {},
   "source": [
    "### <span style=\"color: rgb(15, 50, 150); font-size: 16px; font-weight: bold;\">  2. Performance plots for various rebalancing frequencies </span>"
   ]
  },
  {
   "cell_type": "code",
   "execution_count": null,
   "metadata": {},
   "outputs": [],
   "source": [
    "# Chargement des indices\n",
    "asset_indices_quaterly = Utilities.load_asset_indices([\"LowVolatilityDecile\", \"MidVolatilityDecile\", \"HighVolatilityDecile\", \n",
    "                                              \"VolatilityTiming\", \"VolatilityTiming2sided\"],\n",
    "                                             folder_subpath=\"asset_indices\\\\quarterly_eq_weighted\")\n",
    "asset_indices_semiannually = Utilities.load_asset_indices([\"VolatilityTiming\"],\n",
    "                                             folder_subpath=\"asset_indices\\\\semiannually_eq_weighted\")\n",
    "asset_indices_annually = Utilities.load_asset_indices([\"VolatilityTiming\"],\n",
    "                                             folder_subpath=\"asset_indices\\\\annually_eq_weighted\")"
   ]
  },
  {
   "cell_type": "code",
   "execution_count": null,
   "metadata": {},
   "outputs": [],
   "source": [
    "# Graph des tracks records des stratégies : rebalancement trimestriel (fin trimestre)\n",
    "IndexPlotter.plot_track_records(asset_indices_quaterly, other_data['USRINDEX Index'])"
   ]
  },
  {
   "cell_type": "code",
   "execution_count": null,
   "metadata": {},
   "outputs": [],
   "source": [
    "# Graphique des tracks records de la stratégie VolTiming pour différentes fréquences de rebalancement\n",
    "IndexPlotter.plot_tracks_for_diff_rebalncing_freq( [asset_indices_monthly['VolatilityTiming'],\n",
    "                                                   asset_indices_quaterly['VolatilityTiming'],\n",
    "                                                   asset_indices_semiannually['VolatilityTiming'],\n",
    "                                                   asset_indices_annually['VolatilityTiming']],\n",
    "                                                   label_names=[\"monthly\", \"quarterly\",\"semiannually\",\"annually\"],\n",
    "                                                   strat_name=\"VolatilityTiming\")"
   ]
  }
 ],
 "metadata": {
  "kernelspec": {
   "display_name": ".venv",
   "language": "python",
   "name": "python3"
  },
  "language_info": {
   "codemirror_mode": {
    "name": "ipython",
    "version": 3
   },
   "file_extension": ".py",
   "mimetype": "text/x-python",
   "name": "python",
   "nbconvert_exporter": "python",
   "pygments_lexer": "ipython3",
   "version": "3.12.0"
  }
 },
 "nbformat": 4,
 "nbformat_minor": 2
}
