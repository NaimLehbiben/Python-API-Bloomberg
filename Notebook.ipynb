{
 "cells": [
  {
   "cell_type": "code",
   "execution_count": 1,
   "metadata": {},
   "outputs": [
    {
     "ename": "FileNotFoundError",
     "evalue": "[Errno 2] No such file or directory: 'data/composition_par_date.pkl'",
     "output_type": "error",
     "traceback": [
      "\u001b[1;31m---------------------------------------------------------------------------\u001b[0m",
      "\u001b[1;31mFileNotFoundError\u001b[0m                         Traceback (most recent call last)",
      "Cell \u001b[1;32mIn[1], line 18\u001b[0m\n\u001b[0;32m      8\u001b[0m \u001b[38;5;28;01mif\u001b[39;00m \u001b[38;5;18m__name__\u001b[39m \u001b[38;5;241m==\u001b[39m \u001b[38;5;124m\"\u001b[39m\u001b[38;5;124m__main__\u001b[39m\u001b[38;5;124m\"\u001b[39m:\n\u001b[0;32m      9\u001b[0m     params \u001b[38;5;241m=\u001b[39m {\n\u001b[0;32m     10\u001b[0m         \u001b[38;5;124m\"\u001b[39m\u001b[38;5;124mcurrency\u001b[39m\u001b[38;5;124m\"\u001b[39m : utils\u001b[38;5;241m.\u001b[39mconfig\u001b[38;5;241m.\u001b[39mCURRENCY,\n\u001b[0;32m     11\u001b[0m         \u001b[38;5;124m\"\u001b[39m\u001b[38;5;124mstart_date\u001b[39m\u001b[38;5;124m\"\u001b[39m : utils\u001b[38;5;241m.\u001b[39mconfig\u001b[38;5;241m.\u001b[39mSTART_DATE,\n\u001b[1;32m   (...)\u001b[0m\n\u001b[0;32m     15\u001b[0m         \u001b[38;5;124m\"\u001b[39m\u001b[38;5;124muse_pickle_universe\u001b[39m\u001b[38;5;124m\"\u001b[39m : utils\u001b[38;5;241m.\u001b[39mconfig\u001b[38;5;241m.\u001b[39mUSE_PICKLE_UNIVERSE,\n\u001b[0;32m     16\u001b[0m         }\n\u001b[1;32m---> 18\u001b[0m     tracker \u001b[38;5;241m=\u001b[39m \u001b[43mBackTesting\u001b[49m\u001b[38;5;241;43m.\u001b[39;49m\u001b[43mstart\u001b[49m\u001b[43m(\u001b[49m\u001b[43mparams\u001b[49m\u001b[43m)\u001b[49m\n",
      "File \u001b[1;32mc:\\Users\\naiml\\Desktop\\M272\\Bloomberg\\Python-API-Bloomberg\\src\\backtester\\back_tester.py:239\u001b[0m, in \u001b[0;36mBackTesting.start\u001b[1;34m(params)\u001b[0m\n\u001b[0;32m    236\u001b[0m     \u001b[38;5;28mprint\u001b[39m(\u001b[38;5;124m\"\u001b[39m\u001b[38;5;124ma\u001b[39m\u001b[38;5;124m\"\u001b[39m)                                                      \n\u001b[0;32m    237\u001b[0m     \u001b[38;5;66;03m#compositions, global_market_data = DataManager.fetch_backtest_data(start_date, end_date, ticker, rebalancing_frequency, currency)\u001b[39;00m\n\u001b[0;32m    238\u001b[0m \u001b[38;5;28;01melse\u001b[39;00m:\n\u001b[1;32m--> 239\u001b[0m     compositions \u001b[38;5;241m=\u001b[39m \u001b[43mUtilities\u001b[49m\u001b[38;5;241;43m.\u001b[39;49m\u001b[43mget_data_from_pickle\u001b[49m\u001b[43m(\u001b[49m\u001b[38;5;124;43m\"\u001b[39;49m\u001b[38;5;124;43mcomposition_par_date\u001b[39;49m\u001b[38;5;124;43m\"\u001b[39;49m\u001b[43m)\u001b[49m\n\u001b[0;32m    240\u001b[0m     global_market_data \u001b[38;5;241m=\u001b[39m Utilities\u001b[38;5;241m.\u001b[39mget_data_from_pickle(\u001b[38;5;124m\"\u001b[39m\u001b[38;5;124mglobal_market_data\u001b[39m\u001b[38;5;124m\"\u001b[39m)\n\u001b[0;32m    242\u001b[0m \u001b[38;5;66;03m# Creating an instance of the AssetIndex class\u001b[39;00m\n",
      "File \u001b[1;32mc:\\Users\\naiml\\Desktop\\M272\\Bloomberg\\Python-API-Bloomberg\\utils\\utilities.py:154\u001b[0m, in \u001b[0;36mUtilities.get_data_from_pickle\u001b[1;34m(file_name)\u001b[0m\n\u001b[0;32m    149\u001b[0m \u001b[38;5;66;03m# Construit le chemin du fichier en incluant le dossier 'data'\u001b[39;00m\n\u001b[0;32m    150\u001b[0m \u001b[38;5;66;03m# Assurez-vous que le dossier 'data' est au même niveau que ce script,\u001b[39;00m\n\u001b[0;32m    151\u001b[0m \u001b[38;5;66;03m# sinon ajustez le chemin d'accès selon votre structure de dossiers.\u001b[39;00m\n\u001b[0;32m    152\u001b[0m file_path \u001b[38;5;241m=\u001b[39m \u001b[38;5;124mf\u001b[39m\u001b[38;5;124m\"\u001b[39m\u001b[38;5;124mdata/\u001b[39m\u001b[38;5;132;01m{\u001b[39;00mfile_name\u001b[38;5;132;01m}\u001b[39;00m\u001b[38;5;124m.pkl\u001b[39m\u001b[38;5;124m\"\u001b[39m\n\u001b[1;32m--> 154\u001b[0m \u001b[38;5;28;01mwith\u001b[39;00m \u001b[38;5;28;43mopen\u001b[39;49m\u001b[43m(\u001b[49m\u001b[43mfile_path\u001b[49m\u001b[43m,\u001b[49m\u001b[43m \u001b[49m\u001b[38;5;124;43m'\u001b[39;49m\u001b[38;5;124;43mrb\u001b[39;49m\u001b[38;5;124;43m'\u001b[39;49m\u001b[43m)\u001b[49m \u001b[38;5;28;01mas\u001b[39;00m f:\n\u001b[0;32m    155\u001b[0m     data \u001b[38;5;241m=\u001b[39m pickle\u001b[38;5;241m.\u001b[39mload(f)\n\u001b[0;32m    156\u001b[0m \u001b[38;5;28;01mreturn\u001b[39;00m data\n",
      "\u001b[1;31mFileNotFoundError\u001b[0m: [Errno 2] No such file or directory: 'data/composition_par_date.pkl'"
     ]
    }
   ],
   "source": [
    "from datetime import datetime\n",
    "from utils.utilities import Utilities\n",
    "import pickle\n",
    "from src.backtester.back_tester import BackTesting\n",
    "from src.strategies.strategies import Strategy, LowVolatilityDecileStrategy, HighVolatilityDecileStrategy\n",
    "import utils.config\n",
    "\n",
    "if __name__ == \"__main__\":\n",
    "    params = {\n",
    "        \"currency\" : utils.config.CURRENCY,\n",
    "        \"start_date\" : utils.config.START_DATE,\n",
    "        \"end_date\" : utils.config.END_DATE,\n",
    "        \"ticker\" : utils.config.TICKER,\n",
    "        \"strategy\" : HighVolatilityDecileStrategy,\n",
    "        \"use_pickle_universe\" : utils.config.USE_PICKLE_UNIVERSE,\n",
    "        }\n",
    "    \n",
    "    tracker = BackTesting.start(params)"
   ]
  }
 ],
 "metadata": {
  "kernelspec": {
   "display_name": ".venv",
   "language": "python",
   "name": "python3"
  },
  "language_info": {
   "codemirror_mode": {
    "name": "ipython",
    "version": 3
   },
   "file_extension": ".py",
   "mimetype": "text/x-python",
   "name": "python",
   "nbconvert_exporter": "python",
   "pygments_lexer": "ipython3",
   "version": "3.11.8"
  }
 },
 "nbformat": 4,
 "nbformat_minor": 2
}
