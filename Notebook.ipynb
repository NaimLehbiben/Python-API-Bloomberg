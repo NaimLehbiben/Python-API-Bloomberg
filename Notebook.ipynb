{
 "cells": [
  {
   "cell_type": "code",
   "execution_count": 1,
   "metadata": {},
   "outputs": [],
   "source": [
    "import sys\n",
    "import os\n",
    "import warnings\n",
    "\n",
    "# Ajouter le répertoire parent pour inclure 'src'\n",
    "sys.path.append(os.path.abspath(os.path.join(os.getcwd(), 'src')))\n",
    "\n",
    "# Imports après avoir ajusté le sys.path\n",
    "from src.backtester.back_tester import BackTesting\n",
    "from src.strategies.strategies import *\n",
    "from src.utils.utilities import Utilities\n",
    "from src.performance.graph import IndexPlotter\n",
    "import utils.constant as constant\n",
    "from src.performance.metrics import MetricsCalculator\n",
    "from datetime import datetime, date\n",
    "\n",
    "# Supprimer les avertissements FutureWarning et RuntimeWarning\n",
    "warnings.filterwarnings(\"ignore\", category=FutureWarning)\n",
    "warnings.filterwarnings(\"ignore\", category=RuntimeWarning)\n",
    "warnings.filterwarnings(\"ignore\", category=UserWarning)\n",
    "\n",
    "pd.set_option('display.float_format', '{:.3f}'.format)"
   ]
  },
  {
   "cell_type": "markdown",
   "metadata": {},
   "source": [
    "<div style=\"background-color: rgb(15, 50, 110); color: white; padding: 15px; border-radius: 8px; box-shadow: 0 3px 6px 0 rgba(0, 0, 0, 0.2); text-align: center;\">\n",
    "    <h1 style=\"font-size: 32px; font-weight: bold; margin: 0;\">Volatility Timing under Low-Volatility Strategy</h1>\n",
    "</div> "
   ]
  },
  {
   "cell_type": "markdown",
   "metadata": {},
   "source": [
    "## <span style=\"color: rgb(15, 50, 150); font-size: 20px; font-weight: bold;\"> Volatility Strategies </span>"
   ]
  },
  {
   "cell_type": "code",
   "execution_count": 2,
   "metadata": {},
   "outputs": [
    {
     "ename": "FileNotFoundError",
     "evalue": "[Errno 2] No such file or directory: 'c:\\\\Users\\\\naiml\\\\Desktop\\\\M272\\\\Bloomberg\\\\Python-API-Bloomberg\\\\data\\\\universe\\\\other_US_data.pkl'",
     "output_type": "error",
     "traceback": [
      "\u001b[1;31m---------------------------------------------------------------------------\u001b[0m",
      "\u001b[1;31mFileNotFoundError\u001b[0m                         Traceback (most recent call last)",
      "Cell \u001b[1;32mIn[2], line 11\u001b[0m\n\u001b[0;32m      2\u001b[0m asset_indices_monthly \u001b[38;5;241m=\u001b[39m Utilities\u001b[38;5;241m.\u001b[39mload_asset_indices([\u001b[38;5;124m\"\u001b[39m\u001b[38;5;124mLowVolatilityDecile\u001b[39m\u001b[38;5;124m\"\u001b[39m, \u001b[38;5;124m\"\u001b[39m\u001b[38;5;124mVolatilityTiming\u001b[39m\u001b[38;5;124m\"\u001b[39m, \n\u001b[0;32m      3\u001b[0m                                                       \u001b[38;5;124m\"\u001b[39m\u001b[38;5;124mHighVolatilityDecile\u001b[39m\u001b[38;5;124m\"\u001b[39m], \n\u001b[0;32m      4\u001b[0m                                                     folder_subpath\u001b[38;5;241m=\u001b[39m\u001b[38;5;124m\"\u001b[39m\u001b[38;5;124masset_indices\u001b[39m\u001b[38;5;130;01m\\\\\u001b[39;00m\u001b[38;5;124mmonthly_eq_weighted\u001b[39m\u001b[38;5;124m\"\u001b[39m)\n\u001b[0;32m      6\u001b[0m asset_indices_monthly_all \u001b[38;5;241m=\u001b[39m Utilities\u001b[38;5;241m.\u001b[39mload_asset_indices([\u001b[38;5;124m\"\u001b[39m\u001b[38;5;124mLowVolatilityDecile\u001b[39m\u001b[38;5;124m\"\u001b[39m, \u001b[38;5;124m\"\u001b[39m\u001b[38;5;124mMidVolatilityDecile\u001b[39m\u001b[38;5;124m\"\u001b[39m, \n\u001b[0;32m      7\u001b[0m                                                           \u001b[38;5;124m\"\u001b[39m\u001b[38;5;124mHighVolatilityDecile\u001b[39m\u001b[38;5;124m\"\u001b[39m, \u001b[38;5;124m\"\u001b[39m\u001b[38;5;124mVolatilityTiming\u001b[39m\u001b[38;5;124m\"\u001b[39m, \n\u001b[0;32m      8\u001b[0m                                                           \u001b[38;5;124m\"\u001b[39m\u001b[38;5;124mVolatilityTiming2sided\u001b[39m\u001b[38;5;124m\"\u001b[39m], \n\u001b[0;32m      9\u001b[0m                                                           folder_subpath\u001b[38;5;241m=\u001b[39m\u001b[38;5;124m\"\u001b[39m\u001b[38;5;124masset_indices\u001b[39m\u001b[38;5;130;01m\\\\\u001b[39;00m\u001b[38;5;124mmonthly_eq_weighted\u001b[39m\u001b[38;5;124m\"\u001b[39m)\n\u001b[1;32m---> 11\u001b[0m other_data \u001b[38;5;241m=\u001b[39m \u001b[43mUtilities\u001b[49m\u001b[38;5;241;43m.\u001b[39;49m\u001b[43mget_data_from_pickle\u001b[49m\u001b[43m(\u001b[49m\u001b[38;5;124;43m'\u001b[39;49m\u001b[38;5;124;43mother_US_data\u001b[39;49m\u001b[38;5;124;43m'\u001b[39;49m\u001b[43m,\u001b[49m\u001b[43m \u001b[49m\u001b[43mfolder_subpath\u001b[49m\u001b[38;5;241;43m=\u001b[39;49m\u001b[38;5;124;43m\"\u001b[39;49m\u001b[38;5;124;43muniverse\u001b[39;49m\u001b[38;5;124;43m\"\u001b[39;49m\u001b[43m)\u001b[49m\n\u001b[0;32m     13\u001b[0m \u001b[38;5;66;03m# Parameters\u001b[39;00m\n\u001b[0;32m     14\u001b[0m risk_free_rate_ticker \u001b[38;5;241m=\u001b[39m \u001b[38;5;124m\"\u001b[39m\u001b[38;5;124mUS0003M Index\u001b[39m\u001b[38;5;124m\"\u001b[39m\n",
      "File \u001b[1;32mc:\\Users\\naiml\\Desktop\\M272\\Bloomberg\\Python-API-Bloomberg\\src\\utils\\utilities.py:123\u001b[0m, in \u001b[0;36mUtilities.get_data_from_pickle\u001b[1;34m(file_name, folder_subpath)\u001b[0m\n\u001b[0;32m    121\u001b[0m \u001b[38;5;28;01melse\u001b[39;00m:\n\u001b[0;32m    122\u001b[0m     file_path \u001b[38;5;241m=\u001b[39m os\u001b[38;5;241m.\u001b[39mpath\u001b[38;5;241m.\u001b[39mjoin(os\u001b[38;5;241m.\u001b[39mpath\u001b[38;5;241m.\u001b[39mdirname(\u001b[38;5;18m__file__\u001b[39m)\u001b[38;5;241m.\u001b[39mreplace(\u001b[38;5;124m\"\u001b[39m\u001b[38;5;124msrc\u001b[39m\u001b[38;5;130;01m\\\\\u001b[39;00m\u001b[38;5;124mutils\u001b[39m\u001b[38;5;124m\"\u001b[39m, \u001b[38;5;124m\"\u001b[39m\u001b[38;5;124mdata\u001b[39m\u001b[38;5;130;01m\\\\\u001b[39;00m\u001b[38;5;124m\"\u001b[39m), folder_subpath \u001b[38;5;241m+\u001b[39m \u001b[38;5;124m\"\u001b[39m\u001b[38;5;130;01m\\\\\u001b[39;00m\u001b[38;5;124m\"\u001b[39m, file_name \u001b[38;5;241m+\u001b[39m \u001b[38;5;124m\"\u001b[39m\u001b[38;5;124m.pkl\u001b[39m\u001b[38;5;124m\"\u001b[39m)\n\u001b[1;32m--> 123\u001b[0m \u001b[38;5;28;01mwith\u001b[39;00m \u001b[38;5;28;43mopen\u001b[39;49m\u001b[43m(\u001b[49m\u001b[43mfile_path\u001b[49m\u001b[43m,\u001b[49m\u001b[43m \u001b[49m\u001b[38;5;124;43m'\u001b[39;49m\u001b[38;5;124;43mrb\u001b[39;49m\u001b[38;5;124;43m'\u001b[39;49m\u001b[43m)\u001b[49m \u001b[38;5;28;01mas\u001b[39;00m f:\n\u001b[0;32m    124\u001b[0m     data \u001b[38;5;241m=\u001b[39m pickle\u001b[38;5;241m.\u001b[39mload(f)\n\u001b[0;32m    125\u001b[0m \u001b[38;5;28;01mreturn\u001b[39;00m data\n",
      "\u001b[1;31mFileNotFoundError\u001b[0m: [Errno 2] No such file or directory: 'c:\\\\Users\\\\naiml\\\\Desktop\\\\M272\\\\Bloomberg\\\\Python-API-Bloomberg\\\\data\\\\universe\\\\other_US_data.pkl'"
     ]
    }
   ],
   "source": [
    "# Data import\n",
    "asset_indices_monthly = Utilities.load_asset_indices([\"LowVolatilityDecile\", \"VolatilityTiming\", \n",
    "                                                      \"HighVolatilityDecile\"], \n",
    "                                                    folder_subpath=\"asset_indices\\\\monthly_eq_weighted\")\n",
    "\n",
    "asset_indices_monthly_all = Utilities.load_asset_indices([\"LowVolatilityDecile\", \"MidVolatilityDecile\", \n",
    "                                                          \"HighVolatilityDecile\", \"VolatilityTiming\", \n",
    "                                                          \"VolatilityTiming2sided\"], \n",
    "                                                          folder_subpath=\"asset_indices\\\\monthly_eq_weighted\")\n",
    "\n",
    "other_data = Utilities.get_data_from_pickle('other_US_data', folder_subpath=\"universe\")\n",
    "\n",
    "# Parameters\n",
    "risk_free_rate_ticker = \"US0003M Index\"\n",
    "ticker = \"RIY INDEX\"\n",
    "start_date = datetime(2000, 1, 31)\n",
    "end_date = datetime(2024, 2, 29)\n",
    "frequency = \"monthly\"\n"
   ]
  },
  {
   "cell_type": "markdown",
   "metadata": {},
   "source": [
    "### <span style=\"color: rgb(15, 50, 150); font-size: 16px; font-weight: bold;\"> 1. Volatility and Return Profile under Different Market Conditions </span>"
   ]
  },
  {
   "cell_type": "code",
   "execution_count": null,
   "metadata": {},
   "outputs": [],
   "source": [
    "# Filtering asset indices\n",
    "asset_indices = {ticker :item for ticker, item in asset_indices_monthly_all.items() if ticker in \n",
    "                 [\"LowVolatilityDecile\", \"MidVolatilityDecile\", \"HighVolatilityDecile\"]}\n",
    "\n",
    "# Plot asset indices under different conditions\n",
    "IndexPlotter.asset_indices_plot_under_diff_conditions(asset_indices, other_data, risk_free_rate_ticker,\n",
    "                                                      start_date, end_date,\n",
    "                                                      frequency, constant.REBALANCING_MOMENT, ticker)"
   ]
  },
  {
   "cell_type": "markdown",
   "metadata": {},
   "source": [
    "### <span style=\"color: rgb(15, 50, 150); font-size: 16px; font-weight: bold;\"> 2. Performance and Wealth Plots of the Volatility Strategies </span>"
   ]
  },
  {
   "cell_type": "code",
   "execution_count": null,
   "metadata": {},
   "outputs": [],
   "source": [
    "# Graph des tracks records Vol Timing\n",
    "IndexPlotter.plot_track_records(asset_indices_monthly, other_data['USRINDEX Index'])"
   ]
  },
  {
   "cell_type": "code",
   "execution_count": null,
   "metadata": {},
   "outputs": [],
   "source": [
    "# Convertir toutes les dates dans other_data en datetime avec UTC\n",
    "for key in other_data:\n",
    "    if isinstance(other_data[key].index[0], (pd.Timestamp, datetime)):\n",
    "        other_data[key].index = pd.to_datetime(other_data[key].index, utc=True)\n",
    "\n",
    "# Vérifier la conversion des dates\n",
    "for key in other_data:\n",
    "    print(f\"Key: {key}, Date index type: {type(other_data[key].index[0])}\")\n",
    "\n",
    "# Calcul de la performance des switchs\n",
    "metrics_calculator = MetricsCalculator(other_data, risk_free_rate_ticker)\n",
    "vol_timing_strategy = VolatilityTimingStrategy(start_date, frequency, constant.REBALANCING_MOMENT, \"Equally Weighted\")\n",
    "switch_performance = metrics_calculator.calculate_switch_performance(vol_timing_strategy, other_data, list(other_data.keys()), start_date, end_date)\n",
    "\n",
    "# Afficher la performance des switchs\n",
    "switch_performance_df = pd.DataFrame(switch_performance, index=[0]).T\n",
    "print(switch_performance_df)\n"
   ]
  },
  {
   "cell_type": "code",
   "execution_count": null,
   "metadata": {},
   "outputs": [],
   "source": [
    "IndexPlotter.asset_indices_barplot(asset_indices_monthly_all, other_data, risk_free_rate_ticker)"
   ]
  },
  {
   "cell_type": "code",
   "execution_count": null,
   "metadata": {},
   "outputs": [],
   "source": [
    "# Graph des tracks records des stratégies\n",
    "asset_indices = {ticker :item for ticker, item in asset_indices_monthly_all.items() if ticker in \n",
    "                 [\"LowVolatilityDecile\", \"MidVolatilityDecile\", \"HighVolatilityDecile\", \"VolatilityTiming2sided\"]}\n",
    "\n",
    "IndexPlotter.plot_track_records(asset_indices, other_data['USRINDEX Index'])"
   ]
  },
  {
   "cell_type": "markdown",
   "metadata": {},
   "source": [
    "### <span style=\"color: rgb(15, 50, 150); font-size: 16px; font-weight: bold;\">  4. Performance and Risk Measures of the Various Volatility Portfolios </span>"
   ]
  },
  {
   "cell_type": "code",
   "execution_count": null,
   "metadata": {},
   "outputs": [],
   "source": [
    "perf_metrics_df = IndexPlotter.display_asset_indices_metrics(asset_indices_monthly_all, \n",
    "                                                             other_data,risk_free_rate_ticker)\n",
    "perf_metrics_df"
   ]
  },
  {
   "cell_type": "markdown",
   "metadata": {},
   "source": [
    "## <span style=\"color: rgb(15, 50, 150); font-size: 20px; font-weight: bold;\"> Robustness Tests </span>\n"
   ]
  },
  {
   "cell_type": "markdown",
   "metadata": {},
   "source": [
    "### <span style=\"color: rgb(15, 50, 150); font-size: 16px; font-weight: bold;\">  1. CAPM and Fama–French Alphas </span>"
   ]
  },
  {
   "cell_type": "code",
   "execution_count": null,
   "metadata": {},
   "outputs": [],
   "source": [
    "CPAM_stats, FF_stats = IndexPlotter.display_regress_statistics(asset_indices_monthly_all)\n",
    "CPAM_stats"
   ]
  },
  {
   "cell_type": "code",
   "execution_count": null,
   "metadata": {},
   "outputs": [],
   "source": [
    "FF_stats"
   ]
  },
  {
   "cell_type": "markdown",
   "metadata": {},
   "source": [
    "### <span style=\"color: rgb(15, 50, 150); font-size: 16px; font-weight: bold;\">  2. Performance plots for various rebalancing frequencies </span>"
   ]
  },
  {
   "cell_type": "code",
   "execution_count": null,
   "metadata": {},
   "outputs": [],
   "source": [
    "# Chargement des indices\n",
    "asset_indices_quaterly = Utilities.load_asset_indices([\"LowVolatilityDecile\", \"MidVolatilityDecile\", \"HighVolatilityDecile\", \n",
    "                                              \"VolatilityTiming\", \"VolatilityTiming2sided\"],\n",
    "                                             folder_subpath=\"asset_indices\\\\quarterly_eq_weighted\")\n",
    "asset_indices_semiannually = Utilities.load_asset_indices([\"VolatilityTiming\"],\n",
    "                                             folder_subpath=\"asset_indices\\\\semiannually_eq_weighted\")\n",
    "asset_indices_annually = Utilities.load_asset_indices([\"VolatilityTiming\"],\n",
    "                                             folder_subpath=\"asset_indices\\\\annually_eq_weighted\")"
   ]
  },
  {
   "cell_type": "code",
   "execution_count": null,
   "metadata": {},
   "outputs": [],
   "source": [
    "# Graph des tracks records des stratégies : rebalancement trimestriel (fin trimestre)\n",
    "IndexPlotter.plot_track_records(asset_indices_quaterly, other_data['USRINDEX Index'])"
   ]
  },
  {
   "cell_type": "code",
   "execution_count": null,
   "metadata": {},
   "outputs": [],
   "source": [
    "# Graphique des tracks records de la stratégie VolTiming pour différentes fréquences de rebalancement\n",
    "IndexPlotter.plot_tracks_general( [asset_indices_monthly['VolatilityTiming'],\n",
    "                                    asset_indices_quaterly['VolatilityTiming'],\n",
    "                                    asset_indices_semiannually['VolatilityTiming'],\n",
    "                                    asset_indices_annually['VolatilityTiming']],\n",
    "                                    label_names=[\"monthly\", \"quarterly\",\"semiannually\",\"annually\"],\n",
    "                                    graph_title=\"VolatilityTiming - Wealth plot under different rebalancing frequencies\")"
   ]
  },
  {
   "cell_type": "markdown",
   "metadata": {},
   "source": [
    "### <span style=\"color: rgb(15, 50, 150); font-size: 16px; font-weight: bold;\">  3. Performance under transaction costs </span>"
   ]
  },
  {
   "cell_type": "code",
   "execution_count": null,
   "metadata": {},
   "outputs": [],
   "source": [
    "asset_indices_with_tc = Utilities.load_asset_indices([\"LowVolatilityDecile\", \"HighVolatilityDecile\", \"VolatilityTiming\"],\n",
    "                                             folder_subpath=\"asset_indices\\\\monthly_with_transaction_costs\")\n",
    "\n",
    "asset_indices_with_tc_all = Utilities.load_asset_indices([\"LowVolatilityDecile\", \"MidVolatilityDecile\",\"HighVolatilityDecile\",\n",
    "                                                           \"VolatilityTiming\",\"VolatilityTiming2sided\"],\n",
    "                                             folder_subpath=\"asset_indices\\\\monthly_with_transaction_costs\")\n",
    "\n",
    "IndexPlotter.plot_track_records(asset_indices_with_tc, other_data['USRINDEX Index'])"
   ]
  },
  {
   "cell_type": "code",
   "execution_count": null,
   "metadata": {},
   "outputs": [],
   "source": [
    "perf_metrics_with_tc_df = IndexPlotter.display_asset_indices_metrics(asset_indices_with_tc_all, \n",
    "                                                                     other_data, risk_free_rate_ticker)\n",
    "\n",
    "IndexPlotter.display_joint_metrics(perf_metrics_df, perf_metrics_with_tc_df, \n",
    "                                   label_names=['High Volatility','Low Volatility','Volatility Timing'],\n",
    "                                   column_names=[\"Without TC\", \"With TC\"])"
   ]
  },
  {
   "cell_type": "markdown",
   "metadata": {},
   "source": [
    "### <span style=\"color: rgb(15, 50, 150); font-size: 16px; font-weight: bold;\">  4. Performance under different weighting choices </span>"
   ]
  },
  {
   "cell_type": "code",
   "execution_count": null,
   "metadata": {},
   "outputs": [],
   "source": [
    "# Data import\n",
    "asset_indices_vol_scaling= Utilities.load_asset_indices([\"LowVolatilityDecile\", \"HighVolatilityDecile\", \"VolatilityTiming\"],\n",
    "                                             folder_subpath=\"asset_indices\\\\monthly_vol_scaling\")\n",
    "\n",
    "asset_indices_vol_scaling_all= Utilities.load_asset_indices([\"LowVolatilityDecile\", \"MidVolatilityDecile\",\"HighVolatilityDecile\",\n",
    "                                                           \"VolatilityTiming\",\"VolatilityTiming2sided\"],\n",
    "                                             folder_subpath=\"asset_indices\\\\monthly_vol_scaling\")\n",
    "\n",
    "asset_indices_max_div = Utilities.load_asset_indices([\"LowVolatilityDecile\", \"HighVolatilityDecile\", \"VolatilityTiming\"],\n",
    "                                             folder_subpath=\"asset_indices\\\\monthly_max_div\")\n",
    "\n",
    "\n",
    "asset_indices_max_div_all = Utilities.load_asset_indices([\"LowVolatilityDecile\", \"MidVolatilityDecile\",\"HighVolatilityDecile\",\n",
    "                                                           \"VolatilityTiming\",\"VolatilityTiming2sided\"],\n",
    "                                             folder_subpath=\"asset_indices\\\\monthly_max_div\")"
   ]
  },
  {
   "cell_type": "code",
   "execution_count": null,
   "metadata": {},
   "outputs": [],
   "source": [
    "# Graphique des tracks records de la stratégie VolTiming pour différentes méthodes de calcul de poids\n",
    "IndexPlotter.plot_tracks_general( [asset_indices_monthly_all['VolatilityTiming'],\n",
    "                                    asset_indices_vol_scaling['VolatilityTiming'],\n",
    "                                    asset_indices_max_div['VolatilityTiming']],\n",
    "                                    label_names=[\"equally weigthed\", \"volatility scaling\",\"max diversification\"],\n",
    "                                    graph_title=\"VolatilityTiming - Wealth plot under different weighting choices\")"
   ]
  },
  {
   "cell_type": "code",
   "execution_count": null,
   "metadata": {},
   "outputs": [],
   "source": [
    "perf_metrics_vol_scaling_df = IndexPlotter.display_asset_indices_metrics(asset_indices_vol_scaling_all, \n",
    "                                                                     other_data, risk_free_rate_ticker)\n",
    "\n",
    "perf_metrics_max_div_df = IndexPlotter.display_asset_indices_metrics(asset_indices_max_div_all, \n",
    "                                                                     other_data, risk_free_rate_ticker)"
   ]
  },
  {
   "cell_type": "code",
   "execution_count": null,
   "metadata": {},
   "outputs": [],
   "source": [
    "IndexPlotter.display_joint_metrics(perf_metrics_df, perf_metrics_vol_scaling_df,  perf_metrics_max_div_df,\n",
    "                                   label_names=['High Volatility','Low Volatility','Volatility Timing'],\n",
    "                                   column_names=[\"equally weigthed\", \"volatility scaling\",\"max diversification\"])"
   ]
  }
 ],
 "metadata": {
  "kernelspec": {
   "display_name": ".venv",
   "language": "python",
   "name": "python3"
  },
  "language_info": {
   "codemirror_mode": {
    "name": "ipython",
    "version": 3
   },
   "file_extension": ".py",
   "mimetype": "text/x-python",
   "name": "python",
   "nbconvert_exporter": "python",
   "pygments_lexer": "ipython3",
   "version": "3.12.0"
  }
 },
 "nbformat": 4,
 "nbformat_minor": 2
}
